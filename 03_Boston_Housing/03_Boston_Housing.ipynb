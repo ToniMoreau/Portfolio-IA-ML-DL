{
 "cells": [
  {
   "cell_type": "markdown",
   "id": "b8bbf42f-d290-4e7d-a2d6-b3a58b87c1d6",
   "metadata": {},
   "source": [
    "# Projet 3 : Boston Housing\n",
    "Après m'ètre concentrer sur le **Feature Engineering** (nettoyage, encodage, split, train, évaluation), ce troisième projet ouvrira la  porte de la régression linéaire (et multiple). Je précise que j'ai déja un bagage solide en régression linéaire, suite à ma licence de Maths (Statistiques et Analyse/Algèbre linéaire).\n",
    "Je profite alors de ce troisième projet pour confirmer mes acquis, et m'assurer que ce que j'ai appris correspond bien à ce qui se fait dans l'IA/ML/DL.\n",
    "\n",
    "On attaque alors le projet Boston Housing. Il s'agira de prédire le prix des maisons en fonction de plusieurs caractéristiques (nombre de pièces, taux de criminalité, distance au centre-ville, etc.), sur un dataset classique : load_boston\n",
    "On conserve le même environnement que pour le projet 1 et 2."
   ]
  },
  {
   "cell_type": "markdown",
   "id": "35476f12-2cda-4835-93c4-2c2c566ede00",
   "metadata": {},
   "source": [
    "## I. Importation des modules nécessaires  \n",
    "On commence par importer les librairies et charger les données."
   ]
  },
  {
   "cell_type": "code",
   "execution_count": 12,
   "id": "68ae4f1a-75ce-4b57-bd04-b6588ad85eff",
   "metadata": {},
   "outputs": [],
   "source": [
    "import pandas as pd\n",
    "import numpy as np\n",
    "import seaborn as sns\n",
    "import matplotlib.pyplot as plt\n",
    "\n",
    "from sklearn.datasets import fetch_openml\n",
    "from sklearn.model_selection import train_test_split\n",
    "from sklearn.preprocessing import StandardScaler\n",
    "from sklearn.linear_model import LinearRegression\n",
    "from sklearn.metrics import mean_absolute_error, mean_squared_error, r2_score\n"
   ]
  },
  {
   "cell_type": "code",
   "execution_count": null,
   "id": "14415145-7205-47fd-a87c-ee6fd119aa4c",
   "metadata": {},
   "outputs": [],
   "source": []
  }
 ],
 "metadata": {
  "kernelspec": {
   "display_name": "Python [conda env:ia_l3_py12]",
   "language": "python",
   "name": "conda-env-ia_l3_py12-py"
  },
  "language_info": {
   "codemirror_mode": {
    "name": "ipython",
    "version": 3
   },
   "file_extension": ".py",
   "mimetype": "text/x-python",
   "name": "python",
   "nbconvert_exporter": "python",
   "pygments_lexer": "ipython3",
   "version": "3.12.11"
  }
 },
 "nbformat": 4,
 "nbformat_minor": 5
}
