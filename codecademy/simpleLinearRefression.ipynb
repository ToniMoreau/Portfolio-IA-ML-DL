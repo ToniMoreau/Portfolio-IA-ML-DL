{
 "cells": [
  {
   "cell_type": "markdown",
   "id": "622a1694-bfa7-420b-afbb-e6bc1b0cf1bb",
   "metadata": {},
   "source": [
    "# ${1^{ère}}$ formation - Simple Linear Regression   \n",
    "> ## Codecademy - 4 heures"
   ]
  },
  {
   "cell_type": "markdown",
   "id": "7731f475-3722-4f66-9ffd-fc2b80325eb1",
   "metadata": {},
   "source": [
    "Cette première formation est prévue pour **repartir de 0**, surtout pour m'assurer de mes fondations, et gagner confiance en mes compétences.  \n",
    "Comme précisé ailleurs, j'ai déja une formation en **régression linéaire** via ma **licence de Mathématiques**.  \n",
    "Suite à certains **oublis**, j'ai décidé de rajouter une **formation complète** en régression **linéaire** et **multiple**.  \n",
    "Voici un **compte rendu** non exhaustif du **déroulé** du premier socle de cette formation."
   ]
  },
  {
   "cell_type": "markdown",
   "id": "19d8c0e0-37cd-40a3-8f2a-e3957097480f",
   "metadata": {},
   "source": [
    "## Résumé :"
   ]
  },
  {
   "cell_type": "markdown",
   "id": "6f688cc4-9c11-4e02-aa0e-a0ad5445350a",
   "metadata": {},
   "source": [
    "La formation s'est déroulée en **3 étapes majeures** :  \n",
    "- Explication des **méthodes principales** de **régression linéaire** simple à travers des **mini-projets**\n",
    "  > très intéressant et ludique. J'ai vraiment l'impression d'avoir parcouru les **essentiels** de la régression simple\n",
    "- **Quizz** de vérification d'acquis\n",
    "  > **Moins pertinent** que la première étape. Un quizz un peu léger, avec des code à trous. Pas inutile, mais pas essentiel.\n",
    "- **Projet final** ou l'on passe en revue l'**entièreté** de ce qu'on a appris\n",
    "  > Vraiment la partie **la plus intéressante**. **Autonomie** sur un jeu de donnée ou il faut **tout appliquer**."
   ]
  },
  {
   "cell_type": "code",
   "execution_count": 77,
   "id": "e8cd2335-7ed2-471b-bb13-1fa3bc06621b",
   "metadata": {},
   "outputs": [
    {
     "ename": "ModuleNotFoundError",
     "evalue": "No module named 'codecademylib3'",
     "output_type": "error",
     "traceback": [
      "\u001b[31m---------------------------------------------------------------------------\u001b[39m",
      "\u001b[31mModuleNotFoundError\u001b[39m                       Traceback (most recent call last)",
      "\u001b[36mCell\u001b[39m\u001b[36m \u001b[39m\u001b[32mIn[77]\u001b[39m\u001b[32m, line 7\u001b[39m\n\u001b[32m      5\u001b[39m \u001b[38;5;28;01mimport\u001b[39;00m\u001b[38;5;250m \u001b[39m\u001b[34;01mseaborn\u001b[39;00m\u001b[38;5;250m \u001b[39m\u001b[38;5;28;01mas\u001b[39;00m\u001b[38;5;250m \u001b[39m\u001b[34;01msns\u001b[39;00m\n\u001b[32m      6\u001b[39m \u001b[38;5;28;01mimport\u001b[39;00m\u001b[38;5;250m \u001b[39m\u001b[34;01mstatsmodels\u001b[39;00m\u001b[34;01m.\u001b[39;00m\u001b[34;01mapi\u001b[39;00m\u001b[38;5;250m \u001b[39m\u001b[38;5;28;01mas\u001b[39;00m\u001b[38;5;250m \u001b[39m\u001b[34;01msm\u001b[39;00m\n\u001b[32m----> \u001b[39m\u001b[32m7\u001b[39m \u001b[38;5;28;01mimport\u001b[39;00m\u001b[38;5;250m \u001b[39m\u001b[34;01mcodecademylib3\u001b[39;00m\n\u001b[32m      9\u001b[39m \u001b[38;5;66;03m# Read in the data\u001b[39;00m\n\u001b[32m     10\u001b[39m codecademy = pd.read_csv(\u001b[33m'\u001b[39m\u001b[33mcodecademy.csv\u001b[39m\u001b[33m'\u001b[39m)\n",
      "\u001b[31mModuleNotFoundError\u001b[39m: No module named 'codecademylib3'"
     ]
    }
   ],
   "source": [
    "# Load libraries\n",
    "import pandas as pd\n",
    "import numpy as np\n",
    "import matplotlib.pyplot as plt\n",
    "import seaborn as sns\n",
    "import statsmodels.api as sm\n",
    "import codecademylib3\n",
    "\n",
    "# Read in the data\n",
    "codecademy = pd.read_csv('codecademy.csv')\n",
    "\n",
    "# Print the first five rows\n",
    "print(codecademy.head())\n",
    "# Create a scatter plot of score vs completed\n",
    "plt.scatter(codecademy.completed, codecademy.score)\n",
    "# Show then clear plot\n",
    "plt.show()\n",
    "plt.clf()\n",
    "# Fit a linear regression to predict score based on prior lessons completed\n",
    "model = sm.OLS.from_formula(\"score ~ completed\", data = codecademy)\n",
    "results = model.fit()\n",
    "param = results.params\n",
    "print(param)\n",
    "# Intercept interpretation:\n",
    "#The score without taking any prior lesson is 13.214\n",
    "# Slope interpretation:\n",
    "#One added lesson adds 1.307 to your score\n",
    "# Plot the scatter plot with the line on top\n",
    "plt.scatter(codecademy.completed, codecademy.score)\n",
    "x = codecademy.completed\n",
    "y = param[0] + param[1] * x\n",
    "plt.plot(x, y, 'r')\n",
    "\n",
    "# Show then clear plot\n",
    "plt.show()\n",
    "plt.clf()\n",
    "# Predict score for learner who has completed 20 prior lessons\n",
    "predict_20pl = results.predict({\"completed\" : 20})\n",
    "print(predict_20pl)\n",
    "# Calculate fitted values\n",
    "fitted_values = results.predict(codecademy.completed)\n",
    "# Calculate residuals\n",
    "residuals = codecademy.score - fitted_values\n",
    "# Check normality assumption\n",
    "plt.hist(residuals)\n",
    "# Show then clear the plot\n",
    "plt.show()\n",
    "plt.clf()\n",
    "# Check homoscedasticity assumption\n",
    "plt.scatter(residuals, fitted_values)\n",
    "# Show then clear the plot\n",
    "plt.show()\n",
    "plt.clf()\n",
    "# Create a boxplot of score vs lesson\n",
    "sns.boxplot(codecademy.lesson, codecademy.score)\n",
    "# Show then clear plot\n",
    "plt.show()\n",
    "plt.clf()\n",
    "# Fit a linear regression to predict score based on which lesson they took\n",
    "results = sm.OLS.from_formula(\"score ~ lesson\", data = codecademy).fit()\n",
    "print(results.params)\n",
    "# Calculate and print the group means and mean difference (for comparison)\n",
    "meanA = codecademy.score[codecademy.lesson == \"Lesson A\"].mean()\n",
    "meanB = codecademy.score[codecademy.lesson == \"Lesson B\"].mean()\n",
    "print(meanA)\n",
    "print(meanB)\n",
    "print(meanA - meanB)\n",
    "\n",
    "# Use `sns.lmplot()` to plot `score` vs. `completed` colored by `lesson`\n",
    "sns.lmplot(x = 'completed', y = 'score', hue = 'lesson', data = codecademy)\n",
    "plt.show()"
   ]
  },
  {
   "cell_type": "markdown",
   "id": "6a6cbc01-cc72-49cf-8533-27113243ab37",
   "metadata": {},
   "source": [
    "> le code n'est pas exécutable car il dépend de la librarie codecademy propre à codecademy.  \n",
    "> Je l'ai inséré ici pour avoir une idée de ce que j'ai pu faire lors de cette formation."
   ]
  },
  {
   "cell_type": "markdown",
   "id": "6736ad65-1419-4ebf-adfa-1b8b7a42048f",
   "metadata": {},
   "source": [
    "## Les compétences clés de la formation : "
   ]
  },
  {
   "cell_type": "markdown",
   "id": "5294265f-71d0-40c3-b9e6-8c736458a219",
   "metadata": {},
   "source": [
    "#### **matplotlib**"
   ]
  },
  {
   "cell_type": "markdown",
   "id": "86f100a6-cbd7-49c7-8cce-6a6e155262b6",
   "metadata": {},
   "source": [
    "- **scatter**: nuage de point sur un graphe (déja vu et revu en licence)\n",
    "- **plot**: tracé une courbe sur un graphe (idem)\n",
    "- **show**: permet l'affichage du graphe\n",
    "- **hist**: histogramme de la bibliothèque matplotlib"
   ]
  },
  {
   "cell_type": "markdown",
   "id": "581efe2d-1782-4fc0-a54a-87fc72092151",
   "metadata": {},
   "source": [
    "#### **statsmodels.api**"
   ]
  },
  {
   "cell_type": "markdown",
   "id": "c88075e4-2556-4311-9f0b-22a7795b56e6",
   "metadata": {},
   "source": [
    "- **OLS.from_formula()** : modèle de régression linéaire de la bibliothèque citée.  \n",
    "Cette méthode sert à préparer le modèle. Elle réunit les éléments nécessaire au fonctionnement du modèle.\n",
    "- **fit()** : méthode appliquée au modèle qui va le lancer, donner les coefficients de la formule linéaire ainsi que plusieurs méthodes importantes :\n",
    "  - **fitted values** (valeurs prédites par le modèle)\n",
    "  - **résidus** (différence entre valeurs réelles et valeurs prédites)\n",
    "  - **params** : les coefficients de la formule linéarisée\n",
    "  - **predict** : c'est la focntion de prédiction du modèle. prends en entrée un paramêtre et renvoie une estimation en fonction"
   ]
  },
  {
   "cell_type": "markdown",
   "id": "688a55d4-5fb5-40fa-a83b-7f848c53b735",
   "metadata": {},
   "source": [
    "#### **Distribution normale/ Hypothèse de normalité**"
   ]
  },
  {
   "cell_type": "markdown",
   "id": "8b40a80e-2f1c-407b-aa30-b19316a84d8d",
   "metadata": {},
   "source": [
    "C'est un **indicateur** que je n'avais pas vu en licence. Il sert à **vérifier** si les **résidus** sont dispersés de manière **normale** (gaussienne).   \n",
    "Le cas **échéant**, on conclura que le modèle linéaire **n'est pas** une **bonne solution** de prédiction."
   ]
  },
  {
   "cell_type": "markdown",
   "id": "67dac21d-833f-47c4-9f13-3088d4d67bcf",
   "metadata": {},
   "source": [
    "#### **Homoscedasticity Assumption (homoscédasticité)**"
   ]
  },
  {
   "cell_type": "markdown",
   "id": "ae3eb63a-2d1f-4ac0-a389-e5022ff7ae29",
   "metadata": {},
   "source": [
    "Deuxième **indicateur** que je n'avais pas vu. Il s'agit de **générer un graphe** qui met en relation les **valeurs prédites** avec les **résidus**. Le but ici est d'obtenir une **distribution uniforme**, bien \"étalée\"."
   ]
  },
  {
   "cell_type": "markdown",
   "id": "8133aa66-b076-4dd1-89be-0077e61e894c",
   "metadata": {},
   "source": [
    "#### **caractéristiques qualitatives (categorical)**"
   ]
  },
  {
   "cell_type": "markdown",
   "id": "2bb5c281-4685-4e1a-91a9-1bcb4e407477",
   "metadata": {},
   "source": [
    "Ici, il s'agissait de traiter des données **binaires** (0/1)  \n",
    "Les données correspondantes sont des **données qualitatives** à deux options (**oui/non**, choix1/choix2)  \n",
    ">On implémente le modèle de la même manière"
   ]
  },
  {
   "cell_type": "markdown",
   "id": "b3caecfa-ceaa-49e7-ab79-9e6336242513",
   "metadata": {},
   "source": [
    "#### **seaborn**"
   ]
  },
  {
   "cell_type": "markdown",
   "id": "ab699e2e-239f-47fb-87f2-cf8a9c44c4d5",
   "metadata": {},
   "source": [
    "- **boxplot** : pour graphes boites à moustaches (*vu en licence*)\n",
    "- **lmplot** : utile pour colorier les points du graphe en fonction d'une colonne.  \n",
    "  Trace automatiquement les regressions linéaires en fonction de la coloration des points. (*pas vu en licence*)"
   ]
  },
  {
   "cell_type": "markdown",
   "id": "aaacba2e-1c2e-42f0-a385-ad8db04ad7a0",
   "metadata": {},
   "source": [
    "## Suite de la formation :"
   ]
  },
  {
   "cell_type": "markdown",
   "id": "57987cc2-ced0-40bf-b284-fd49209f03d0",
   "metadata": {},
   "source": [
    "A la suite de cette formation, codecademy me propose une **suite logique** de formation sur la **régression multi-linéaire**.  \n",
    "On reste alors sur la même plateforme.\n",
    "\n",
    "Concernant la **régression simple**. Je suis satisfait de ce qu'elle m'a apporté. Celle-ci **manquait d'analyse plus profondes**.   \n",
    "Je compte donc suivre une formation **complémentaire**, plus centrée sur les **outils** et **analyses**."
   ]
  }
 ],
 "metadata": {
  "kernelspec": {
   "display_name": "Python [conda env:ia_l3_py12]",
   "language": "python",
   "name": "conda-env-ia_l3_py12-py"
  },
  "language_info": {
   "codemirror_mode": {
    "name": "ipython",
    "version": 3
   },
   "file_extension": ".py",
   "mimetype": "text/x-python",
   "name": "python",
   "nbconvert_exporter": "python",
   "pygments_lexer": "ipython3",
   "version": "3.12.11"
  }
 },
 "nbformat": 4,
 "nbformat_minor": 5
}
