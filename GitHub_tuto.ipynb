{
 "cells": [
  {
   "cell_type": "markdown",
   "id": "b890b0be-e1b7-4a3e-8c25-bfa025fff99a",
   "metadata": {},
   "source": [
    "# GITHUB Tutorial : "
   ]
  },
  {
   "cell_type": "markdown",
   "id": "52e89fd6-3438-4098-9baf-16acadc48d10",
   "metadata": {},
   "source": [
    "## Ajouter un fichier dans mon projet gitHub"
   ]
  },
  {
   "cell_type": "markdown",
   "id": "53b3be54-7feb-4c29-8346-d0d42367cfa6",
   "metadata": {},
   "source": [
    "git add GitHub_tuto.ipynb"
   ]
  },
  {
   "cell_type": "markdown",
   "id": "9fd3f8ef-a26d-4e19-aeea-42745708b8c9",
   "metadata": {},
   "source": [
    "git commit -m \"GitHub Tuto\""
   ]
  },
  {
   "cell_type": "markdown",
   "id": "37ee854b-7297-49e5-8283-8fc991beab35",
   "metadata": {},
   "source": [
    "git push"
   ]
  }
 ],
 "metadata": {
  "kernelspec": {
   "display_name": "Python [conda env:ia_l3_py12]",
   "language": "python",
   "name": "conda-env-ia_l3_py12-py"
  },
  "language_info": {
   "codemirror_mode": {
    "name": "ipython",
    "version": 3
   },
   "file_extension": ".py",
   "mimetype": "text/x-python",
   "name": "python",
   "nbconvert_exporter": "python",
   "pygments_lexer": "ipython3",
   "version": "3.12.11"
  }
 },
 "nbformat": 4,
 "nbformat_minor": 5
}
