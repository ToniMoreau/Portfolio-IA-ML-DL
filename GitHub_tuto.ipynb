{
 "cells": [
  {
   "cell_type": "markdown",
   "id": "b890b0be-e1b7-4a3e-8c25-bfa025fff99a",
   "metadata": {},
   "source": [
    "#GITHUB Tutorial : "
   ]
  },
  {
   "cell_type": "code",
   "execution_count": 3,
   "id": "d55ae18e-2c03-4a41-a588-5e969d213814",
   "metadata": {},
   "outputs": [
    {
     "name": "stdout",
     "output_type": "stream",
     "text": [
      "2.5.1\n"
     ]
    }
   ],
   "source": [
    "git add nom_du_notebook.ipynb\n",
    "git commit -m \"Ajout projet Iris\"\n",
    "git push"
   ]
  },
  {
   "cell_type": "code",
   "execution_count": null,
   "id": "ed881281-b181-483c-98bf-e4faaa7b55b3",
   "metadata": {},
   "outputs": [],
   "source": []
  }
 ],
 "metadata": {
  "kernelspec": {
   "display_name": "Python [conda env:ia_l3_py12]",
   "language": "python",
   "name": "conda-env-ia_l3_py12-py"
  },
  "language_info": {
   "codemirror_mode": {
    "name": "ipython",
    "version": 3
   },
   "file_extension": ".py",
   "mimetype": "text/x-python",
   "name": "python",
   "nbconvert_exporter": "python",
   "pygments_lexer": "ipython3",
   "version": "3.12.11"
  }
 },
 "nbformat": 4,
 "nbformat_minor": 5
}
