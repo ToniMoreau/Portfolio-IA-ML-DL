{
 "cells": [
  {
   "cell_type": "markdown",
   "id": "b890b0be-e1b7-4a3e-8c25-bfa025fff99a",
   "metadata": {},
   "source": [
    "# GITHUB Tutorial : "
   ]
  },
  {
   "cell_type": "markdown",
   "id": "52e89fd6-3438-4098-9baf-16acadc48d10",
   "metadata": {},
   "source": [
    "## Ajouter un fichier dans mon projet gitHub"
   ]
  },
  {
   "cell_type": "markdown",
   "id": "06ea9592-2298-4807-a2a9-e0a20785d153",
   "metadata": {},
   "source": [
    "git add GitHub_tuto.ipynb\n",
    "git commit -m \"GitHub Tuto\"\n",
    "git push"
   ]
  },
  {
   "cell_type": "code",
   "execution_count": null,
   "id": "ed881281-b181-483c-98bf-e4faaa7b55b3",
   "metadata": {},
   "outputs": [],
   "source": []
  },
  {
   "cell_type": "code",
   "execution_count": null,
   "id": "a50ebca6-7e3d-48f9-9046-9fa79c803355",
   "metadata": {},
   "outputs": [],
   "source": []
  }
 ],
 "metadata": {
  "kernelspec": {
   "display_name": "Python [conda env:ia_l3_py12]",
   "language": "python",
   "name": "conda-env-ia_l3_py12-py"
  },
  "language_info": {
   "codemirror_mode": {
    "name": "ipython",
    "version": 3
   },
   "file_extension": ".py",
   "mimetype": "text/x-python",
   "name": "python",
   "nbconvert_exporter": "python",
   "pygments_lexer": "ipython3",
   "version": "3.12.11"
  }
 },
 "nbformat": 4,
 "nbformat_minor": 5
}
